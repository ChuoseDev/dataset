{
  "cells": [
    {
      "cell_type": "code",
      "execution_count": null,
      "metadata": {
        "colab": {
          "base_uri": "https://localhost:8080/"
        },
        "id": "_l7Mh1FP-9wy",
        "outputId": "d3757414-b542-4d62-efcc-85753758f4bf"
      },
      "outputs": [
        {
          "output_type": "stream",
          "name": "stdout",
          "text": [
            "Looking in indexes: https://pypi.org/simple, https://us-python.pkg.dev/colab-wheels/public/simple/\n",
            "Requirement already satisfied: pythainlp in /usr/local/lib/python3.7/dist-packages (3.1.0)\n",
            "Requirement already satisfied: requests>=2.22.0 in /usr/local/lib/python3.7/dist-packages (from pythainlp) (2.23.0)\n",
            "Requirement already satisfied: certifi>=2017.4.17 in /usr/local/lib/python3.7/dist-packages (from requests>=2.22.0->pythainlp) (2022.6.15)\n",
            "Requirement already satisfied: chardet<4,>=3.0.2 in /usr/local/lib/python3.7/dist-packages (from requests>=2.22.0->pythainlp) (3.0.4)\n",
            "Requirement already satisfied: idna<3,>=2.5 in /usr/local/lib/python3.7/dist-packages (from requests>=2.22.0->pythainlp) (2.10)\n",
            "Requirement already satisfied: urllib3!=1.25.0,!=1.25.1,<1.26,>=1.21.1 in /usr/local/lib/python3.7/dist-packages (from requests>=2.22.0->pythainlp) (1.24.3)\n",
            "Looking in indexes: https://pypi.org/simple, https://us-python.pkg.dev/colab-wheels/public/simple/\n",
            "Requirement already satisfied: gensim in /root/.local/lib/python3.7/site-packages (4.2.0)\n",
            "Requirement already satisfied: smart-open>=1.8.1 in /usr/local/lib/python3.7/dist-packages (from gensim) (5.2.1)\n",
            "Requirement already satisfied: scipy>=0.18.1 in /usr/local/lib/python3.7/dist-packages (from gensim) (1.7.3)\n",
            "Requirement already satisfied: numpy>=1.17.0 in /usr/local/lib/python3.7/dist-packages (from gensim) (1.21.5)\n",
            "Looking in indexes: https://pypi.org/simple, https://us-python.pkg.dev/colab-wheels/public/simple/\n",
            "Requirement already satisfied: scikeras in /usr/local/lib/python3.7/dist-packages (0.9.0)\n",
            "Requirement already satisfied: packaging>=0.21 in /usr/local/lib/python3.7/dist-packages (from scikeras) (21.3)\n",
            "Requirement already satisfied: scikit-learn>=1.0.0 in /usr/local/lib/python3.7/dist-packages (from scikeras) (1.0.2)\n",
            "Requirement already satisfied: importlib-metadata>=3 in /usr/local/lib/python3.7/dist-packages (from scikeras) (4.12.0)\n",
            "Requirement already satisfied: zipp>=0.5 in /usr/local/lib/python3.7/dist-packages (from importlib-metadata>=3->scikeras) (3.8.1)\n",
            "Requirement already satisfied: typing-extensions>=3.6.4 in /usr/local/lib/python3.7/dist-packages (from importlib-metadata>=3->scikeras) (4.1.1)\n",
            "Requirement already satisfied: pyparsing!=3.0.5,>=2.0.2 in /usr/local/lib/python3.7/dist-packages (from packaging>=0.21->scikeras) (3.0.9)\n",
            "Requirement already satisfied: scipy>=1.1.0 in /usr/local/lib/python3.7/dist-packages (from scikit-learn>=1.0.0->scikeras) (1.7.3)\n",
            "Requirement already satisfied: numpy>=1.14.6 in /usr/local/lib/python3.7/dist-packages (from scikit-learn>=1.0.0->scikeras) (1.21.5)\n",
            "Requirement already satisfied: joblib>=0.11 in /usr/local/lib/python3.7/dist-packages (from scikit-learn>=1.0.0->scikeras) (1.1.0)\n",
            "Requirement already satisfied: threadpoolctl>=2.0.0 in /usr/local/lib/python3.7/dist-packages (from scikit-learn>=1.0.0->scikeras) (3.1.0)\n",
            "Looking in indexes: https://pypi.org/simple, https://us-python.pkg.dev/colab-wheels/public/simple/\n",
            "Requirement already satisfied: attacut in /usr/local/lib/python3.7/dist-packages (1.0.6)\n",
            "Requirement already satisfied: docopt>=0.6.2 in /usr/local/lib/python3.7/dist-packages (from attacut) (0.6.2)\n",
            "Requirement already satisfied: nptyping>=0.2.0 in /usr/local/lib/python3.7/dist-packages (from attacut) (2.3.1)\n",
            "Requirement already satisfied: six>=1.12.0 in /usr/local/lib/python3.7/dist-packages (from attacut) (1.15.0)\n",
            "Requirement already satisfied: fire>=0.1.3 in /usr/local/lib/python3.7/dist-packages (from attacut) (0.4.0)\n",
            "Requirement already satisfied: numpy>=1.17.0 in /usr/local/lib/python3.7/dist-packages (from attacut) (1.21.5)\n",
            "Requirement already satisfied: ssg>=0.0.4 in /usr/local/lib/python3.7/dist-packages (from attacut) (0.0.8)\n",
            "Requirement already satisfied: pyyaml>=5.1.2 in /usr/local/lib/python3.7/dist-packages (from attacut) (6.0)\n",
            "Requirement already satisfied: torch>=1.2.0 in /usr/local/lib/python3.7/dist-packages (from attacut) (1.12.1+cu113)\n",
            "Requirement already satisfied: termcolor in /usr/local/lib/python3.7/dist-packages (from fire>=0.1.3->attacut) (1.1.0)\n",
            "Requirement already satisfied: typing-extensions<5.0.0,>=4.0.0 in /usr/local/lib/python3.7/dist-packages (from nptyping>=0.2.0->attacut) (4.1.1)\n",
            "Requirement already satisfied: python-crfsuite>=0.9.6 in /usr/local/lib/python3.7/dist-packages (from ssg>=0.0.4->attacut) (0.9.8)\n",
            "Requirement already satisfied: tqdm>=4.32.2 in /usr/local/lib/python3.7/dist-packages (from ssg>=0.0.4->attacut) (4.64.1)\n"
          ]
        }
      ],
      "source": [
        "!pip install pythainlp\n",
        "!pip install --upgrade gensim --user\n",
        "!pip install scikeras\n",
        "!pip install attacut"
      ]
    },
    {
      "cell_type": "code",
      "execution_count": null,
      "metadata": {
        "id": "jI5xUnpY-qSk"
      },
      "outputs": [],
      "source": [
        "import pandas as pd\n",
        "from sklearn.model_selection import train_test_split\n",
        "from tensorflow.keras.preprocessing.text import Tokenizer\n",
        "from tensorflow.keras.preprocessing.sequence import pad_sequences\n",
        "from keras import callbacks\n",
        "from keras.models import Sequential\n",
        "from keras.layers import Embedding,LSTM,Dense,Dropout\n",
        "from keras.regularizers import l2\n",
        "\n",
        "import matplotlib.pyplot as plt\n",
        "from sklearn import metrics\n",
        "from keras.callbacks import EarlyStopping\n",
        "from sklearn.metrics import classification_report\n",
        "import numpy as np\n",
        "\n",
        "import keras\n",
        "from keras import *\n",
        "from keras.layers import *\n",
        "from pythainlp import word_tokenize\n",
        "from pythainlp.word_vector import *\n",
        "\n",
        "from sklearn.metrics import f1_score\n",
        "from sklearn.preprocessing import LabelEncoder\n",
        "\n",
        "from keras.models import load_model\n",
        "from gensim.models import KeyedVectors\n",
        "\n",
        "from sklearn.metrics import precision_score, recall_score, f1_score, accuracy_score\n",
        "from sklearn.metrics import classification_report, confusion_matrix\n",
        "\n",
        "from scikeras.wrappers import KerasClassifier\n",
        "from sklearn.model_selection import GridSearchCV\n"
      ]
    },
    {
      "cell_type": "code",
      "execution_count": null,
      "metadata": {
        "colab": {
          "base_uri": "https://localhost:8080/"
        },
        "id": "oPOiaWprRQbR",
        "outputId": "7c4c2c8b-b38c-4cc9-ce5a-4165fedd9ccc"
      },
      "outputs": [
        {
          "output_type": "stream",
          "name": "stdout",
          "text": [
            "Drive already mounted at /drive; to attempt to forcibly remount, call drive.mount(\"/drive\", force_remount=True).\n"
          ]
        }
      ],
      "source": [
        "from google.colab import files\n",
        "from google.colab import drive\n",
        "\n",
        "drive.mount('/drive')"
      ]
    },
    {
      "cell_type": "code",
      "execution_count": null,
      "metadata": {
        "id": "2tbwP_dR-qSo"
      },
      "outputs": [],
      "source": [
        "df = pd.read_csv('Suicidal_Combine.csv').drop(columns='Unnamed: 0')"
      ]
    },
    {
      "cell_type": "code",
      "source": [
        "c = get_model()"
      ],
      "metadata": {
        "colab": {
          "base_uri": "https://localhost:8080/",
          "height": 169
        },
        "id": "0ki0ch4offMU",
        "outputId": "0992d9f7-93a4-4e36-cdda-b9b9d1c2b9d6"
      },
      "execution_count": null,
      "outputs": [
        {
          "output_type": "error",
          "ename": "NameError",
          "evalue": "ignored",
          "traceback": [
            "\u001b[0;31m---------------------------------------------------------------------------\u001b[0m",
            "\u001b[0;31mNameError\u001b[0m                                 Traceback (most recent call last)",
            "\u001b[0;32m<ipython-input-5-9fc6507a8491>\u001b[0m in \u001b[0;36m<module>\u001b[0;34m\u001b[0m\n\u001b[0;32m----> 1\u001b[0;31m \u001b[0mc\u001b[0m \u001b[0;34m=\u001b[0m \u001b[0mget_model\u001b[0m\u001b[0;34m(\u001b[0m\u001b[0;34m)\u001b[0m\u001b[0;34m\u001b[0m\u001b[0;34m\u001b[0m\u001b[0m\n\u001b[0m",
            "\u001b[0;31mNameError\u001b[0m: name 'get_model' is not defined"
          ]
        }
      ]
    },
    {
      "cell_type": "code",
      "execution_count": null,
      "metadata": {
        "id": "Fzar-g4x-qSp",
        "colab": {
          "base_uri": "https://localhost:8080/",
          "height": 240
        },
        "outputId": "9f52c04e-ec18-4f73-e2f0-0580856f8c34"
      },
      "outputs": [
        {
          "output_type": "error",
          "ename": "NameError",
          "evalue": "ignored",
          "traceback": [
            "\u001b[0;31m---------------------------------------------------------------------------\u001b[0m",
            "\u001b[0;31mNameError\u001b[0m                                 Traceback (most recent call last)",
            "\u001b[0;32m<ipython-input-6-a4abbb4fd403>\u001b[0m in \u001b[0;36m<module>\u001b[0;34m\u001b[0m\n\u001b[0;32m----> 1\u001b[0;31m \u001b[0mwModel\u001b[0m \u001b[0;34m=\u001b[0m \u001b[0mget_model\u001b[0m\u001b[0;34m(\u001b[0m\u001b[0;34m)\u001b[0m\u001b[0;34m\u001b[0m\u001b[0;34m\u001b[0m\u001b[0m\n\u001b[0m\u001b[1;32m      2\u001b[0m \u001b[0mthai2dict\u001b[0m \u001b[0;34m=\u001b[0m \u001b[0;34m{\u001b[0m\u001b[0;34m}\u001b[0m\u001b[0;34m\u001b[0m\u001b[0;34m\u001b[0m\u001b[0m\n\u001b[1;32m      3\u001b[0m \u001b[0;32mfor\u001b[0m \u001b[0mword\u001b[0m \u001b[0;32min\u001b[0m \u001b[0mwModel\u001b[0m\u001b[0;34m.\u001b[0m\u001b[0mindex_to_key\u001b[0m\u001b[0;34m:\u001b[0m\u001b[0;34m\u001b[0m\u001b[0;34m\u001b[0m\u001b[0m\n\u001b[1;32m      4\u001b[0m     \u001b[0mthai2dict\u001b[0m\u001b[0;34m[\u001b[0m\u001b[0mword\u001b[0m\u001b[0;34m]\u001b[0m \u001b[0;34m=\u001b[0m \u001b[0mwModel\u001b[0m\u001b[0;34m[\u001b[0m\u001b[0mword\u001b[0m\u001b[0;34m]\u001b[0m\u001b[0;34m\u001b[0m\u001b[0;34m\u001b[0m\u001b[0m\n\u001b[1;32m      5\u001b[0m \u001b[0mthai2vec\u001b[0m \u001b[0;34m=\u001b[0m \u001b[0mpd\u001b[0m\u001b[0;34m.\u001b[0m\u001b[0mDataFrame\u001b[0m\u001b[0;34m.\u001b[0m\u001b[0mfrom_dict\u001b[0m\u001b[0;34m(\u001b[0m\u001b[0mthai2dict\u001b[0m\u001b[0;34m,\u001b[0m\u001b[0morient\u001b[0m\u001b[0;34m=\u001b[0m\u001b[0;34m'index'\u001b[0m\u001b[0;34m)\u001b[0m\u001b[0;34m\u001b[0m\u001b[0;34m\u001b[0m\u001b[0m\n",
            "\u001b[0;31mNameError\u001b[0m: name 'get_model' is not defined"
          ]
        }
      ],
      "source": [
        "wModel = get_model()\n",
        "thai2dict = {}\n",
        "for word in wModel.index_to_key:\n",
        "    thai2dict[word] = wModel[word]\n",
        "thai2vec = pd.DataFrame.from_dict(thai2dict,orient='index')\n",
        "thVocab = thai2vec.index.to_list()"
      ]
    },
    {
      "cell_type": "code",
      "execution_count": null,
      "metadata": {
        "colab": {
          "base_uri": "https://localhost:8080/",
          "height": 456
        },
        "id": "WFn9vbZ0-qSq",
        "outputId": "9e6f4d70-6919-40e2-89d7-263921b7e63a"
      },
      "outputs": [
        {
          "output_type": "execute_result",
          "data": {
            "text/plain": [
              "           0         1         2         3         4         5         6    \\\n",
              "ที่   0.308956 -0.097699  0.116745  0.215612  0.015768 -0.064163  0.062168   \n",
              "และ   0.010751 -0.618971  0.129665  0.035460 -0.007560  0.027607  0.397824   \n",
              "เป็น -0.015736 -0.258926  0.052953  0.153728 -0.005985 -0.021081  0.041088   \n",
              "ของ  -0.189711 -0.174774  0.171124 -0.186771  0.054294 -0.114150 -1.109456   \n",
              "มี   -0.156962 -0.231863  0.080312  0.323157  0.215695  0.055145  0.420794   \n",
              "ได้  -0.428813 -0.031194  0.041922 -0.036608 -0.008106  0.076470 -0.782270   \n",
              "\"\"\"\" -0.287710  0.064193  0.205076  0.146356 -0.071343 -0.039451 -1.845461   \n",
              "การ   0.239587 -0.303620  0.079953 -0.453045 -0.528826 -0.161692  0.235725   \n",
              "(    -0.120522 -0.355783  0.168180 -0.377733 -0.158624 -0.047249  0.361140   \n",
              ")    -0.086848 -0.155231  0.133015 -0.039913  0.183761  0.115142 -1.940854   \n",
              "\n",
              "           7         8         9    ...       290       291       292  \\\n",
              "ที่   0.039649  0.864940  0.846904  ... -0.142418  0.033241  0.171581   \n",
              "และ   0.026543  0.254075  0.168328  ... -0.105786  0.180930 -0.101630   \n",
              "เป็น  0.057312  1.633230  0.442729  ... -0.009408 -0.252576 -0.305512   \n",
              "ของ  -0.094466 -0.447015  0.042377  ... -0.168676 -0.148738  0.680404   \n",
              "มี    0.016842  0.256759  0.832864  ... -0.044267 -0.147186 -0.105424   \n",
              "ได้   0.033361  0.606864  0.440520  ...  0.024458 -0.025031  0.103389   \n",
              "\"\"\"\"  0.163763  1.018096  0.272786  ...  0.051024 -0.532856 -0.131856   \n",
              "การ  -0.099673  0.691668  0.536159  ... -0.110436 -0.297495 -0.217414   \n",
              "(     0.161460  0.913314  0.345037  ...  0.116285 -0.318218 -0.356664   \n",
              ")    -0.066565 -2.399744  0.146722  ...  0.019406 -0.181474  0.099863   \n",
              "\n",
              "           293       294       295       296       297       298       299  \n",
              "ที่  -0.624864 -0.009358  0.449131  0.120130 -0.122195 -0.450617 -0.071318  \n",
              "และ   0.070885 -0.037263  0.183606 -0.049088 -0.672288 -1.293044  0.592576  \n",
              "เป็น  0.372542  0.049151  0.568470  0.266586  0.400800 -0.784650  0.197369  \n",
              "ของ   0.097702  0.020270  0.182967 -0.083949  0.006287 -0.707434 -0.070234  \n",
              "มี    0.907078  0.009299  0.550953  0.139337  0.031696 -0.670379 -0.008048  \n",
              "ได้  -0.078255  0.034323  0.459774 -0.748643  0.337775 -0.487408 -0.511535  \n",
              "\"\"\"\" -0.090323 -0.058895  0.151262 -0.420358  0.055971 -0.930814  0.163908  \n",
              "การ   0.045158  0.066647  0.190095 -0.304333 -0.724927 -0.995488 -0.716609  \n",
              "(     0.519889  0.130475  0.125772  0.101328 -0.382658 -1.205359  0.340139  \n",
              ")     0.516092  0.201697  0.249139  0.252957  1.138815 -0.018209  0.232265  \n",
              "\n",
              "[10 rows x 300 columns]"
            ],
            "text/html": [
              "\n",
              "  <div id=\"df-bcae1381-fb37-4bd9-b7c3-cddf3b5ca6e6\">\n",
              "    <div class=\"colab-df-container\">\n",
              "      <div>\n",
              "<style scoped>\n",
              "    .dataframe tbody tr th:only-of-type {\n",
              "        vertical-align: middle;\n",
              "    }\n",
              "\n",
              "    .dataframe tbody tr th {\n",
              "        vertical-align: top;\n",
              "    }\n",
              "\n",
              "    .dataframe thead th {\n",
              "        text-align: right;\n",
              "    }\n",
              "</style>\n",
              "<table border=\"1\" class=\"dataframe\">\n",
              "  <thead>\n",
              "    <tr style=\"text-align: right;\">\n",
              "      <th></th>\n",
              "      <th>0</th>\n",
              "      <th>1</th>\n",
              "      <th>2</th>\n",
              "      <th>3</th>\n",
              "      <th>4</th>\n",
              "      <th>5</th>\n",
              "      <th>6</th>\n",
              "      <th>7</th>\n",
              "      <th>8</th>\n",
              "      <th>9</th>\n",
              "      <th>...</th>\n",
              "      <th>290</th>\n",
              "      <th>291</th>\n",
              "      <th>292</th>\n",
              "      <th>293</th>\n",
              "      <th>294</th>\n",
              "      <th>295</th>\n",
              "      <th>296</th>\n",
              "      <th>297</th>\n",
              "      <th>298</th>\n",
              "      <th>299</th>\n",
              "    </tr>\n",
              "  </thead>\n",
              "  <tbody>\n",
              "    <tr>\n",
              "      <th>ที่</th>\n",
              "      <td>0.308956</td>\n",
              "      <td>-0.097699</td>\n",
              "      <td>0.116745</td>\n",
              "      <td>0.215612</td>\n",
              "      <td>0.015768</td>\n",
              "      <td>-0.064163</td>\n",
              "      <td>0.062168</td>\n",
              "      <td>0.039649</td>\n",
              "      <td>0.864940</td>\n",
              "      <td>0.846904</td>\n",
              "      <td>...</td>\n",
              "      <td>-0.142418</td>\n",
              "      <td>0.033241</td>\n",
              "      <td>0.171581</td>\n",
              "      <td>-0.624864</td>\n",
              "      <td>-0.009358</td>\n",
              "      <td>0.449131</td>\n",
              "      <td>0.120130</td>\n",
              "      <td>-0.122195</td>\n",
              "      <td>-0.450617</td>\n",
              "      <td>-0.071318</td>\n",
              "    </tr>\n",
              "    <tr>\n",
              "      <th>และ</th>\n",
              "      <td>0.010751</td>\n",
              "      <td>-0.618971</td>\n",
              "      <td>0.129665</td>\n",
              "      <td>0.035460</td>\n",
              "      <td>-0.007560</td>\n",
              "      <td>0.027607</td>\n",
              "      <td>0.397824</td>\n",
              "      <td>0.026543</td>\n",
              "      <td>0.254075</td>\n",
              "      <td>0.168328</td>\n",
              "      <td>...</td>\n",
              "      <td>-0.105786</td>\n",
              "      <td>0.180930</td>\n",
              "      <td>-0.101630</td>\n",
              "      <td>0.070885</td>\n",
              "      <td>-0.037263</td>\n",
              "      <td>0.183606</td>\n",
              "      <td>-0.049088</td>\n",
              "      <td>-0.672288</td>\n",
              "      <td>-1.293044</td>\n",
              "      <td>0.592576</td>\n",
              "    </tr>\n",
              "    <tr>\n",
              "      <th>เป็น</th>\n",
              "      <td>-0.015736</td>\n",
              "      <td>-0.258926</td>\n",
              "      <td>0.052953</td>\n",
              "      <td>0.153728</td>\n",
              "      <td>-0.005985</td>\n",
              "      <td>-0.021081</td>\n",
              "      <td>0.041088</td>\n",
              "      <td>0.057312</td>\n",
              "      <td>1.633230</td>\n",
              "      <td>0.442729</td>\n",
              "      <td>...</td>\n",
              "      <td>-0.009408</td>\n",
              "      <td>-0.252576</td>\n",
              "      <td>-0.305512</td>\n",
              "      <td>0.372542</td>\n",
              "      <td>0.049151</td>\n",
              "      <td>0.568470</td>\n",
              "      <td>0.266586</td>\n",
              "      <td>0.400800</td>\n",
              "      <td>-0.784650</td>\n",
              "      <td>0.197369</td>\n",
              "    </tr>\n",
              "    <tr>\n",
              "      <th>ของ</th>\n",
              "      <td>-0.189711</td>\n",
              "      <td>-0.174774</td>\n",
              "      <td>0.171124</td>\n",
              "      <td>-0.186771</td>\n",
              "      <td>0.054294</td>\n",
              "      <td>-0.114150</td>\n",
              "      <td>-1.109456</td>\n",
              "      <td>-0.094466</td>\n",
              "      <td>-0.447015</td>\n",
              "      <td>0.042377</td>\n",
              "      <td>...</td>\n",
              "      <td>-0.168676</td>\n",
              "      <td>-0.148738</td>\n",
              "      <td>0.680404</td>\n",
              "      <td>0.097702</td>\n",
              "      <td>0.020270</td>\n",
              "      <td>0.182967</td>\n",
              "      <td>-0.083949</td>\n",
              "      <td>0.006287</td>\n",
              "      <td>-0.707434</td>\n",
              "      <td>-0.070234</td>\n",
              "    </tr>\n",
              "    <tr>\n",
              "      <th>มี</th>\n",
              "      <td>-0.156962</td>\n",
              "      <td>-0.231863</td>\n",
              "      <td>0.080312</td>\n",
              "      <td>0.323157</td>\n",
              "      <td>0.215695</td>\n",
              "      <td>0.055145</td>\n",
              "      <td>0.420794</td>\n",
              "      <td>0.016842</td>\n",
              "      <td>0.256759</td>\n",
              "      <td>0.832864</td>\n",
              "      <td>...</td>\n",
              "      <td>-0.044267</td>\n",
              "      <td>-0.147186</td>\n",
              "      <td>-0.105424</td>\n",
              "      <td>0.907078</td>\n",
              "      <td>0.009299</td>\n",
              "      <td>0.550953</td>\n",
              "      <td>0.139337</td>\n",
              "      <td>0.031696</td>\n",
              "      <td>-0.670379</td>\n",
              "      <td>-0.008048</td>\n",
              "    </tr>\n",
              "    <tr>\n",
              "      <th>ได้</th>\n",
              "      <td>-0.428813</td>\n",
              "      <td>-0.031194</td>\n",
              "      <td>0.041922</td>\n",
              "      <td>-0.036608</td>\n",
              "      <td>-0.008106</td>\n",
              "      <td>0.076470</td>\n",
              "      <td>-0.782270</td>\n",
              "      <td>0.033361</td>\n",
              "      <td>0.606864</td>\n",
              "      <td>0.440520</td>\n",
              "      <td>...</td>\n",
              "      <td>0.024458</td>\n",
              "      <td>-0.025031</td>\n",
              "      <td>0.103389</td>\n",
              "      <td>-0.078255</td>\n",
              "      <td>0.034323</td>\n",
              "      <td>0.459774</td>\n",
              "      <td>-0.748643</td>\n",
              "      <td>0.337775</td>\n",
              "      <td>-0.487408</td>\n",
              "      <td>-0.511535</td>\n",
              "    </tr>\n",
              "    <tr>\n",
              "      <th>\"\"\"\"</th>\n",
              "      <td>-0.287710</td>\n",
              "      <td>0.064193</td>\n",
              "      <td>0.205076</td>\n",
              "      <td>0.146356</td>\n",
              "      <td>-0.071343</td>\n",
              "      <td>-0.039451</td>\n",
              "      <td>-1.845461</td>\n",
              "      <td>0.163763</td>\n",
              "      <td>1.018096</td>\n",
              "      <td>0.272786</td>\n",
              "      <td>...</td>\n",
              "      <td>0.051024</td>\n",
              "      <td>-0.532856</td>\n",
              "      <td>-0.131856</td>\n",
              "      <td>-0.090323</td>\n",
              "      <td>-0.058895</td>\n",
              "      <td>0.151262</td>\n",
              "      <td>-0.420358</td>\n",
              "      <td>0.055971</td>\n",
              "      <td>-0.930814</td>\n",
              "      <td>0.163908</td>\n",
              "    </tr>\n",
              "    <tr>\n",
              "      <th>การ</th>\n",
              "      <td>0.239587</td>\n",
              "      <td>-0.303620</td>\n",
              "      <td>0.079953</td>\n",
              "      <td>-0.453045</td>\n",
              "      <td>-0.528826</td>\n",
              "      <td>-0.161692</td>\n",
              "      <td>0.235725</td>\n",
              "      <td>-0.099673</td>\n",
              "      <td>0.691668</td>\n",
              "      <td>0.536159</td>\n",
              "      <td>...</td>\n",
              "      <td>-0.110436</td>\n",
              "      <td>-0.297495</td>\n",
              "      <td>-0.217414</td>\n",
              "      <td>0.045158</td>\n",
              "      <td>0.066647</td>\n",
              "      <td>0.190095</td>\n",
              "      <td>-0.304333</td>\n",
              "      <td>-0.724927</td>\n",
              "      <td>-0.995488</td>\n",
              "      <td>-0.716609</td>\n",
              "    </tr>\n",
              "    <tr>\n",
              "      <th>(</th>\n",
              "      <td>-0.120522</td>\n",
              "      <td>-0.355783</td>\n",
              "      <td>0.168180</td>\n",
              "      <td>-0.377733</td>\n",
              "      <td>-0.158624</td>\n",
              "      <td>-0.047249</td>\n",
              "      <td>0.361140</td>\n",
              "      <td>0.161460</td>\n",
              "      <td>0.913314</td>\n",
              "      <td>0.345037</td>\n",
              "      <td>...</td>\n",
              "      <td>0.116285</td>\n",
              "      <td>-0.318218</td>\n",
              "      <td>-0.356664</td>\n",
              "      <td>0.519889</td>\n",
              "      <td>0.130475</td>\n",
              "      <td>0.125772</td>\n",
              "      <td>0.101328</td>\n",
              "      <td>-0.382658</td>\n",
              "      <td>-1.205359</td>\n",
              "      <td>0.340139</td>\n",
              "    </tr>\n",
              "    <tr>\n",
              "      <th>)</th>\n",
              "      <td>-0.086848</td>\n",
              "      <td>-0.155231</td>\n",
              "      <td>0.133015</td>\n",
              "      <td>-0.039913</td>\n",
              "      <td>0.183761</td>\n",
              "      <td>0.115142</td>\n",
              "      <td>-1.940854</td>\n",
              "      <td>-0.066565</td>\n",
              "      <td>-2.399744</td>\n",
              "      <td>0.146722</td>\n",
              "      <td>...</td>\n",
              "      <td>0.019406</td>\n",
              "      <td>-0.181474</td>\n",
              "      <td>0.099863</td>\n",
              "      <td>0.516092</td>\n",
              "      <td>0.201697</td>\n",
              "      <td>0.249139</td>\n",
              "      <td>0.252957</td>\n",
              "      <td>1.138815</td>\n",
              "      <td>-0.018209</td>\n",
              "      <td>0.232265</td>\n",
              "    </tr>\n",
              "  </tbody>\n",
              "</table>\n",
              "<p>10 rows × 300 columns</p>\n",
              "</div>\n",
              "      <button class=\"colab-df-convert\" onclick=\"convertToInteractive('df-bcae1381-fb37-4bd9-b7c3-cddf3b5ca6e6')\"\n",
              "              title=\"Convert this dataframe to an interactive table.\"\n",
              "              style=\"display:none;\">\n",
              "        \n",
              "  <svg xmlns=\"http://www.w3.org/2000/svg\" height=\"24px\"viewBox=\"0 0 24 24\"\n",
              "       width=\"24px\">\n",
              "    <path d=\"M0 0h24v24H0V0z\" fill=\"none\"/>\n",
              "    <path d=\"M18.56 5.44l.94 2.06.94-2.06 2.06-.94-2.06-.94-.94-2.06-.94 2.06-2.06.94zm-11 1L8.5 8.5l.94-2.06 2.06-.94-2.06-.94L8.5 2.5l-.94 2.06-2.06.94zm10 10l.94 2.06.94-2.06 2.06-.94-2.06-.94-.94-2.06-.94 2.06-2.06.94z\"/><path d=\"M17.41 7.96l-1.37-1.37c-.4-.4-.92-.59-1.43-.59-.52 0-1.04.2-1.43.59L10.3 9.45l-7.72 7.72c-.78.78-.78 2.05 0 2.83L4 21.41c.39.39.9.59 1.41.59.51 0 1.02-.2 1.41-.59l7.78-7.78 2.81-2.81c.8-.78.8-2.07 0-2.86zM5.41 20L4 18.59l7.72-7.72 1.47 1.35L5.41 20z\"/>\n",
              "  </svg>\n",
              "      </button>\n",
              "      \n",
              "  <style>\n",
              "    .colab-df-container {\n",
              "      display:flex;\n",
              "      flex-wrap:wrap;\n",
              "      gap: 12px;\n",
              "    }\n",
              "\n",
              "    .colab-df-convert {\n",
              "      background-color: #E8F0FE;\n",
              "      border: none;\n",
              "      border-radius: 50%;\n",
              "      cursor: pointer;\n",
              "      display: none;\n",
              "      fill: #1967D2;\n",
              "      height: 32px;\n",
              "      padding: 0 0 0 0;\n",
              "      width: 32px;\n",
              "    }\n",
              "\n",
              "    .colab-df-convert:hover {\n",
              "      background-color: #E2EBFA;\n",
              "      box-shadow: 0px 1px 2px rgba(60, 64, 67, 0.3), 0px 1px 3px 1px rgba(60, 64, 67, 0.15);\n",
              "      fill: #174EA6;\n",
              "    }\n",
              "\n",
              "    [theme=dark] .colab-df-convert {\n",
              "      background-color: #3B4455;\n",
              "      fill: #D2E3FC;\n",
              "    }\n",
              "\n",
              "    [theme=dark] .colab-df-convert:hover {\n",
              "      background-color: #434B5C;\n",
              "      box-shadow: 0px 1px 3px 1px rgba(0, 0, 0, 0.15);\n",
              "      filter: drop-shadow(0px 1px 2px rgba(0, 0, 0, 0.3));\n",
              "      fill: #FFFFFF;\n",
              "    }\n",
              "  </style>\n",
              "\n",
              "      <script>\n",
              "        const buttonEl =\n",
              "          document.querySelector('#df-bcae1381-fb37-4bd9-b7c3-cddf3b5ca6e6 button.colab-df-convert');\n",
              "        buttonEl.style.display =\n",
              "          google.colab.kernel.accessAllowed ? 'block' : 'none';\n",
              "\n",
              "        async function convertToInteractive(key) {\n",
              "          const element = document.querySelector('#df-bcae1381-fb37-4bd9-b7c3-cddf3b5ca6e6');\n",
              "          const dataTable =\n",
              "            await google.colab.kernel.invokeFunction('convertToInteractive',\n",
              "                                                     [key], {});\n",
              "          if (!dataTable) return;\n",
              "\n",
              "          const docLinkHtml = 'Like what you see? Visit the ' +\n",
              "            '<a target=\"_blank\" href=https://colab.research.google.com/notebooks/data_table.ipynb>data table notebook</a>'\n",
              "            + ' to learn more about interactive tables.';\n",
              "          element.innerHTML = '';\n",
              "          dataTable['output_type'] = 'display_data';\n",
              "          await google.colab.output.renderOutput(dataTable, element);\n",
              "          const docLink = document.createElement('div');\n",
              "          docLink.innerHTML = docLinkHtml;\n",
              "          element.appendChild(docLink);\n",
              "        }\n",
              "      </script>\n",
              "    </div>\n",
              "  </div>\n",
              "  "
            ]
          },
          "metadata": {},
          "execution_count": 7
        }
      ],
      "source": [
        "thai2vec.head(10)"
      ]
    },
    {
      "cell_type": "code",
      "execution_count": null,
      "metadata": {
        "id": "u8P4lfkN-qSq"
      },
      "outputs": [],
      "source": [
        "ll = len(thai2vec)"
      ]
    },
    {
      "cell_type": "code",
      "execution_count": null,
      "metadata": {
        "colab": {
          "base_uri": "https://localhost:8080/"
        },
        "id": "pRrXOoKS-qSr",
        "outputId": "d6ad83d7-3e95-44e3-cb3c-86e6a9924018"
      },
      "outputs": [
        {
          "output_type": "stream",
          "name": "stdout",
          "text": [
            "16300"
          ]
        }
      ],
      "source": [
        "for vidx in range(ll):\n",
        "    if vidx % 100 == 0:\n",
        "        print('\\r' + str(vidx),end='')\n",
        "    aa = thai2vec.iloc[[vidx]]\n",
        "    ab = aa.values.tolist()\n",
        "    if vidx == 0:\n",
        "        vect = ab\n",
        "    else:\n",
        "        vect = np.vstack((vect,ab))\n",
        "\n",
        "print(\"\\n\", vect.shape)"
      ]
    },
    {
      "cell_type": "code",
      "execution_count": null,
      "metadata": {
        "id": "ywmOKk6zsJQ8"
      },
      "outputs": [],
      "source": [
        "from keras import backend as K\n",
        "\n",
        "def recall_m(y_true,y_pred):\n",
        "  true_positives = K.sum(K.round(K.clip(y_true * y_pred, 0, 1)))\n",
        "  possible_positives = K.sum(K.round(K.clip(y_true,0,1)))\n",
        "  recall = true_positives / (possible_positives+K.epsilon())\n",
        "  return recall\n",
        "\n",
        "def precision_m(y_true,y_pred):\n",
        "  true_positives = K.sum(K.round(K.clip(y_true * y_pred, 0, 1)))\n",
        "  predicted_positives = K.sum(K.round(K.clip(y_pred, 0, 1)))\n",
        "  precision = true_positives / (predicted_positives + K.epsilon())\n",
        "  return precision\n",
        "\n",
        "def f1_m(y_true,y_pred):\n",
        "  precision = precision_m(y_true,y_pred)\n",
        "  recall = recall_m(y_true,y_pred)\n",
        "  return 2*((precision * recall) / (precision + recall + K.epsilon()))\n",
        "\n",
        "\n",
        "\n",
        "def tokenWord(wordTarget):\n",
        "    wordToken = word_tokenize(wordTarget, engine='attacut')\n",
        "    return wordToken\n",
        "\n",
        "def convert2num(convData):\n",
        "  for ci in range(len(convData)):\n",
        "      if convData[ci] == \"Level 1\":\n",
        "          convData[ci] = 0\n",
        "      elif convData[ci] == \"Level 2\":\n",
        "          convData[ci] = 1\n",
        "      elif convData[ci] == \"Level 3\":\n",
        "          convData[ci] = 2\n",
        "      elif convData[ci] == \"Level 4\":\n",
        "          convData[ci] = 3\n",
        "      elif convData[ci] == \"Level 5\":\n",
        "          convData[ci] = 4\n",
        "      elif convData[ci] == \"Other\":\n",
        "          convData[ci] = 5\n",
        "  return convData\n",
        "\n",
        "def convWord(cw):\n",
        "    cWord = cw\n",
        "    for ti in range(len(cWord)):\n",
        "        if cWord[ti] == ' ':\n",
        "            cWord[ti] = ''\n",
        "        elif cWord[ti] not in thVocab:\n",
        "            cWord[ti] = ''\n",
        "    return cWord\n",
        "\n",
        "def token2index(t2idx):\n",
        "    w2index = []\n",
        "    for wi in range(len(t2idx)):\n",
        "        if t2idx[wi] in thVocab:\n",
        "            w2index.append(thVocab.index(t2idx[wi]))\n",
        "    return np.array(w2index)\n",
        "\n",
        "def findMaxArray(fma):\n",
        "    maxlen = 0\n",
        "    for mi in range(len(fma)):\n",
        "        nA = len(fma[mi])\n",
        "        if nA > maxlen:\n",
        "            maxlen = nA\n",
        "    return maxlen\n",
        "\n",
        "def fill0in(f0i):\n",
        "    fMax = findMaxArray(f0i)\n",
        "    for fi, ax in enumerate(f0i):\n",
        "        if len(ax) < fMax:\n",
        "            f0i[fi] = np.hstack((ax , np.zeros(fMax-len(ax))))\n",
        "        f0i1 = np.array(f0i)\n",
        "    return f0i1\n",
        "\n",
        "def prepare2train(ipt):\n",
        "    pre2t = []\n",
        "    for pidx in range(len(ipt)):\n",
        "        wp1 = ipt[pidx]\n",
        "        pre2t.append(token2index(convWord(tokenWord(wp1))))\n",
        "    return pre2t"
      ]
    },
    {
      "cell_type": "code",
      "execution_count": null,
      "metadata": {
        "id": "Lg3w5uWk-qSv"
      },
      "outputs": [],
      "source": [
        "tweet = df['Tweet']\n",
        "tweetArray = tweet.to_list()\n",
        "label = df['Label (Specialist)']"
      ]
    },
    {
      "cell_type": "code",
      "execution_count": null,
      "metadata": {
        "id": "ulR5RmTh-qSv"
      },
      "outputs": [],
      "source": [
        "Xtrain = prepare2train(tweetArray)\n",
        "Ytrain = convert2num(label.to_list())"
      ]
    },
    {
      "cell_type": "code",
      "execution_count": null,
      "metadata": {
        "id": "LVSHRdRk-qSv"
      },
      "outputs": [],
      "source": [
        "YTrainIdx = np.array(Ytrain)\n",
        "XTrainIdx = fill0in(Xtrain)"
      ]
    },
    {
      "cell_type": "code",
      "execution_count": null,
      "metadata": {
        "id": "sE9OKzZ0-qSv"
      },
      "outputs": [],
      "source": [
        "XTrainIdx.shape"
      ]
    },
    {
      "cell_type": "code",
      "execution_count": null,
      "metadata": {
        "id": "c7JOPd5D-qSw"
      },
      "outputs": [],
      "source": [
        "model = keras.Sequential()\n",
        "model.add(keras.layers.Embedding(vect.shape[0],vect.shape[1],name='embed'))\n",
        "model.add(keras.layers.Bidirectional(keras.layers.LSTM(128, return_sequences=True)))\n",
        "model.add(Dropout(0.3))\n",
        "model.add(keras.layers.Bidirectional(keras.layers.LSTM(64)))\n",
        "model.add(Dropout(0.3))\n",
        "model.add(Dense(32, activation=('relu'),kernel_regularizer=l2(0.05)))\n",
        "model.add(Dense(6, activation=('softmax')))"
      ]
    },
    {
      "cell_type": "code",
      "execution_count": null,
      "metadata": {
        "id": "6fT5wxv1-qSw"
      },
      "outputs": [],
      "source": [
        "model.summary()"
      ]
    },
    {
      "cell_type": "code",
      "execution_count": null,
      "metadata": {
        "id": "eDVC6J5q-qSw"
      },
      "outputs": [],
      "source": [
        "early_stop = EarlyStopping(monitor='val_loss', patience=8, verbose=1)\n",
        "model.compile(loss='sparse_categorical_crossentropy',optimizer='adam',metrics=['accuracy'])"
      ]
    },
    {
      "cell_type": "code",
      "execution_count": null,
      "metadata": {
        "id": "ovump2cF-qSw"
      },
      "outputs": [],
      "source": [
        "model.get_layer('embed').set_weights([vect])\n",
        "model.get_layer('embed').trainable = True"
      ]
    },
    {
      "cell_type": "code",
      "execution_count": null,
      "metadata": {
        "id": "dT5eW-Ym-qSx"
      },
      "outputs": [],
      "source": [
        "class myCallback(callbacks.Callback):\n",
        "  def on_epoch_end(self, epoch, logs={}):\n",
        "    if(logs.get('accuracy')>0.99):\n",
        "      self.model.stop_training = True\n",
        "      print(\"\\nCallback Accuracy มากกว่า 95%!\")\n",
        "callbacks = myCallback()"
      ]
    },
    {
      "cell_type": "code",
      "execution_count": null,
      "metadata": {
        "id": "j65B2_ok-qSx"
      },
      "outputs": [],
      "source": [
        "model.fit(XTrainIdx,YTrainIdx,epochs=1000)"
      ]
    },
    {
      "cell_type": "code",
      "execution_count": null,
      "metadata": {
        "id": "ai741LosoTnY"
      },
      "outputs": [],
      "source": [
        "#Save model\n",
        "model.save(\"/drive/MyDrive/PP_Thesis/LSTM_tanh_128n64n32e1000_K1.h5\")\n",
        "#Load Model\n",
        "model = keras.models.load_model(\"/drive/MyDrive/PP_Thesis/LSTM_relu_128n64n32e1000_K1.h5\")"
      ]
    },
    {
      "cell_type": "markdown",
      "metadata": {
        "id": "cXSGL4RusD7i"
      },
      "source": [
        "## **Test**"
      ]
    },
    {
      "cell_type": "code",
      "source": [
        "df_test = pd.read_csv('Suicidal_K1_Test.csv').drop(columns='Unnamed: 0')"
      ],
      "metadata": {
        "id": "frkBgCXZfGCo"
      },
      "execution_count": null,
      "outputs": []
    },
    {
      "cell_type": "code",
      "source": [
        "#Other\n",
        "for i in range(len(df_test)):\n",
        "    if df_test['Label (Specialist)'][i] == 'Other':\n",
        "        df_test['Tweet'][i] = df_test['Tweet'][i].replace('ตาย','')\n",
        "        df_test['Tweet'][i] = df_test['Tweet'][i].replace('ฆ่า','')\n",
        "        df_test['Tweet'][i] = df_test['Tweet'][i].replace('กรีด','')\n",
        "        df_test['Tweet'][i] = df_test['Tweet'][i].replace('ทำร้าย','')\n",
        "        df_test['Tweet'][i] = df_test['Tweet'][i].replace('ทรมาน','')\n",
        "        df_test['Tweet'][i] = df_test['Tweet'][i].replace('เจ็บ','')\n",
        "        df_test['Tweet'][i] = df_test['Tweet'][i].replace('สำเร็จ','')\n",
        "        df_test['Tweet'][i] = df_test['Tweet'][i].replace('รมควัน','')\n",
        "        df_test['Tweet'][i] = df_test['Tweet'][i].replace('จบ','')\n",
        "        df_test['Tweet'][i] = df_test['Tweet'][i].replace('ผูกคอ','')\n",
        "        df_test['Tweet'][i] = df_test['Tweet'][i].replace('ไม่','')\n",
        "        df_test['Tweet'][i] = df_test['Tweet'][i].replace('ไร้ค่า','')     \n",
        "        df_test['Tweet'][i] = df_test['Tweet'][i].replace('หายไป','')\n",
        "        df_test['Tweet'][i] = df_test['Tweet'][i].replace('เหนื่อย','')\n",
        "        df_test['Tweet'][i] = df_test['Tweet'][i].replace('พยายาม','')\n",
        "        df_test['Tweet'][i] = df_test['Tweet'][i].replace('โรคซึมเศร้่า','')\n",
        "        df_test['Tweet'][i] = df_test['Tweet'][i].replace('แผล','')\n",
        "        df_test['Tweet'][i] = df_test['Tweet'][i].replace('เลือด','')\n",
        "        df_test['Tweet'][i] = df_test['Tweet'][i].replace('ดิ่ง','')\n",
        "        df_test['Tweet'][i] = df_test['Tweet'][i].replace('ไม่ตื่น','')"
      ],
      "metadata": {
        "id": "-nJQOplvfK9y"
      },
      "execution_count": null,
      "outputs": []
    },
    {
      "cell_type": "code",
      "source": [
        "#Level 1\n",
        "for i in range(len(df_test)):\n",
        "    if df_test['Label (Specialist)'][i] == 'Level 1':\n",
        "        df_test['Tweet'][i] = df_test['Tweet'][i].replace('ผูกคอ','') \n",
        "        df_test['Tweet'][i] = df_test['Tweet'][i].replace('ลาก่อน','')\n",
        "        df_test['Tweet'][i] = df_test['Tweet'][i].replace('คัตเตอร์','')\n",
        "        df_test['Tweet'][i] = df_test['Tweet'][i].replace('กินยา','')\n",
        "        df_test['Tweet'][i] = df_test['Tweet'][i].replace('ฆ่าตัว','')\n",
        "        df_test['Tweet'][i] = df_test['Tweet'][i].replace('สำเร็จ','')\n",
        "        df_test['Tweet'][i] = df_test['Tweet'][i].replace('ขอบคุณ','')\n",
        "        df_test['Tweet'][i] = df_test['Tweet'][i].replace('จดหมาย','')\n",
        "        df_test['Tweet'][i] = df_test['Tweet'][i].replace('ยา','')\n",
        "        df_test['Tweet'][i] = df_test['Tweet'][i].replace('จบ','')\n",
        "        df_test['Tweet'][i] = df_test['Tweet'][i].replace('แผล','')\n",
        "        df_test['Tweet'][i] = df_test['Tweet'][i].replace('เจ็บ','')\n",
        "        df_test['Tweet'][i] = df_test['Tweet'][i].replace('โอเวอร์โดส','')"
      ],
      "metadata": {
        "id": "AiIEjwkKNfas"
      },
      "execution_count": null,
      "outputs": []
    },
    {
      "cell_type": "code",
      "execution_count": null,
      "metadata": {
        "id": "fz8ZQhYW-qSx"
      },
      "outputs": [],
      "source": [
        "testAns = df_test['Label (Specialist)']\n",
        "X_test = df_test['Tweet']\n",
        "\n",
        "test_array = X_test.to_list()\n",
        "\n",
        "X_test = prepare2train(test_array)\n",
        "y_test = convert2num(testAns)"
      ]
    },
    {
      "cell_type": "code",
      "execution_count": null,
      "metadata": {
        "id": "feV1v4_6-qSx"
      },
      "outputs": [],
      "source": [
        "YTestIdx = np.array(y_test)\n",
        "XTestIdx = fill0in(X_test)"
      ]
    },
    {
      "cell_type": "code",
      "execution_count": null,
      "metadata": {
        "id": "1wmdnfzx-qSy"
      },
      "outputs": [],
      "source": [
        "y_pred = np.argmax(model.predict(XTestIdx),axis=1)"
      ]
    },
    {
      "cell_type": "code",
      "execution_count": null,
      "metadata": {
        "id": "sRfnyDtg-qSy"
      },
      "outputs": [],
      "source": [
        "y_true = df_test['Label (Specialist)']\n",
        "y_true"
      ]
    },
    {
      "cell_type": "code",
      "execution_count": null,
      "metadata": {
        "id": "0O7X1ncH-qSy"
      },
      "outputs": [],
      "source": [
        "XTestIdx = np.asarray(XTestIdx).astype(np.float32)\n",
        "YTestIdx = np.asarray(YTestIdx).astype(np.float32)"
      ]
    },
    {
      "cell_type": "code",
      "execution_count": null,
      "metadata": {
        "id": "cCKfHmDB-qSy"
      },
      "outputs": [],
      "source": [
        "accr = model.evaluate(XTestIdx,YTestIdx,verbose=0)"
      ]
    },
    {
      "cell_type": "code",
      "execution_count": null,
      "metadata": {
        "id": "CG0wEv31-qSy"
      },
      "outputs": [],
      "source": [
        "y_true = y_true.tolist()\n",
        "y_pred = y_pred.tolist()"
      ]
    },
    {
      "cell_type": "code",
      "execution_count": null,
      "metadata": {
        "id": "TBSOyjNq-qSy"
      },
      "outputs": [],
      "source": [
        "correctCount = 0\n",
        "for i in range(len(testAns)):\n",
        "    if y_pred[i] == testAns[i]:\n",
        "        correctCount = correctCount + 1\n",
        "\n",
        "accTest = (correctCount/len(testAns))*100\n",
        "\n",
        "print('Correct Test ', correctCount, ' of ', len(testAns))\n",
        "print(classification_report(y_true, y_pred))\n",
        "\n",
        "print('Accuracy: %.4f' % (accuracy_score(y_true, y_pred)))\n",
        "print('--------macro--------')\n",
        "print('Precision: %.4f' % precision_score(y_true, y_pred,average='macro'))\n",
        "print('Recall: %.4f' % recall_score(y_true, y_pred,average='macro'))\n",
        "print('F1 Score: %.4f' % f1_score(y_true, y_pred,average='macro'))\n",
        "\n",
        "print('--------weighted--------')\n",
        "print('Precision: %.4f' % precision_score(y_true, y_pred,average='weighted'))\n",
        "print('Recall: %.4f' % recall_score(y_true, y_pred,average='weighted'))\n",
        "print('F1 Score: %.4f' % f1_score(y_true, y_pred,average='weighted'))"
      ]
    },
    {
      "cell_type": "code",
      "execution_count": null,
      "metadata": {
        "id": "38n46Z4Jgv9j"
      },
      "outputs": [],
      "source": [
        "\n"
      ]
    },
    {
      "cell_type": "code",
      "execution_count": null,
      "metadata": {
        "id": "ZIxKbq6egErv"
      },
      "outputs": [],
      "source": []
    },
    {
      "cell_type": "code",
      "execution_count": null,
      "metadata": {
        "id": "5nA65V8HPU6e"
      },
      "outputs": [],
      "source": []
    }
  ],
  "metadata": {
    "accelerator": "GPU",
    "colab": {
      "machine_shape": "hm",
      "provenance": []
    },
    "gpuClass": "standard",
    "kernelspec": {
      "display_name": "Python 3.9.10 ('mlp')",
      "language": "python",
      "name": "python3"
    },
    "language_info": {
      "codemirror_mode": {
        "name": "ipython",
        "version": 3
      },
      "file_extension": ".py",
      "mimetype": "text/x-python",
      "name": "python",
      "nbconvert_exporter": "python",
      "pygments_lexer": "ipython3",
      "version": "3.9.10"
    },
    "vscode": {
      "interpreter": {
        "hash": "312e11345a26bb658cc76d44d3920b107a1290315a78b9f69927adb21ad3c257"
      }
    }
  },
  "nbformat": 4,
  "nbformat_minor": 0
}